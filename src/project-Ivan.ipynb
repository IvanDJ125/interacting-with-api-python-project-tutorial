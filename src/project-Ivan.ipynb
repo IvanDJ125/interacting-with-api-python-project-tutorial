{
 "cells": [
  {
   "cell_type": "code",
   "execution_count": 72,
   "metadata": {},
   "outputs": [],
   "source": [
    "import os\n",
    "from dotenv import load_dotenv\n",
    "\n",
    "# Load environment variables\n",
    "load_dotenv()\n",
    "\n",
    "CLIENT_ID = os.getenv(\"CLIENT_ID\")\n",
    "CLIENT_SECRET = os.getenv(\"CLIENT_SECRET\")"
   ]
  },
  {
   "cell_type": "markdown",
   "metadata": {},
   "source": [
    "### Connect to Spotify API"
   ]
  },
  {
   "cell_type": "code",
   "execution_count": 73,
   "metadata": {},
   "outputs": [
    {
     "name": "stdout",
     "output_type": "stream",
     "text": [
      "Connected to Spotify API!\n"
     ]
    }
   ],
   "source": [
    "import spotipy\n",
    "from spotipy.oauth2 import SpotifyClientCredentials\n",
    "\n",
    "# Set up Spotify connection\n",
    "client_credentials_manager = SpotifyClientCredentials(client_id=CLIENT_ID, client_secret=CLIENT_SECRET)\n",
    "sp = spotipy.Spotify(client_credentials_manager=client_credentials_manager)\n",
    "\n",
    "print(\"Connected to Spotify API!\")"
   ]
  },
  {
   "cell_type": "markdown",
   "metadata": {},
   "source": [
    "### Get the top 10 tracks for an artist"
   ]
  },
  {
   "cell_type": "code",
   "execution_count": 74,
   "metadata": {},
   "outputs": [
    {
     "name": "stdout",
     "output_type": "stream",
     "text": [
      "Top 10 Tracks by John Legend:\n",
      "1. All of Me | Popularity: 83 | Duration: 4.49 mins\n",
      "2. What Christmas Means to Me (feat. Stevie Wonder) | Popularity: 68 | Duration: 2.67 mins\n",
      "3. Bring Me Love | Popularity: 63 | Duration: 3.32 mins\n",
      "4. You Deserve It All | Popularity: 66 | Duration: 3.31 mins\n",
      "5. Minefields | Popularity: 61 | Duration: 3.18 mins\n",
      "6. Baby, It's Cold Outside (feat. Kelly Clarkson) | Popularity: 65 | Duration: 3.65 mins\n",
      "7. Beauty and the Beast | Popularity: 62 | Duration: 3.8 mins\n",
      "8. The Christmas Song (Chestnuts Roasting On An Open Fire) (duet with John Legend) | Popularity: 54 | Duration: 3.5 mins\n",
      "9. This Christmas | Popularity: 52 | Duration: 3.05 mins\n",
      "10. On Time (with John Legend) | Popularity: 61 | Duration: 2.82 mins\n"
     ]
    }
   ],
   "source": [
    "# Artist's Spotify ID for John Legend\n",
    "john_legend_id = \"5y2Xq6xcjJb2jVM54GHK3t\"\n",
    "\n",
    "# Get the top 10 tracks of the artist\n",
    "top_tracks = sp.artist_top_tracks(john_legend_id)\n",
    "\n",
    "# Process the response to keep only the relevant data\n",
    "tracks_data = []\n",
    "for track in top_tracks['tracks'][:10]:\n",
    "    track_name = track['name']\n",
    "    popularity = track['popularity']\n",
    "    duration_ms = track['duration_ms']\n",
    "    duration_min = round(duration_ms / 60000, 2)  # Convert ms to minutes\n",
    "    tracks_data.append({\n",
    "        \"name\": track_name,\n",
    "        \"popularity\": popularity,\n",
    "        \"duration_minutes\": duration_min\n",
    "    })\n",
    "\n",
    "# Display the processed data\n",
    "print(\"Top 10 Tracks by John Legend:\")\n",
    "for idx, track in enumerate(tracks_data):\n",
    "    print(f\"{idx + 1}. {track['name']} | Popularity: {track['popularity']} | Duration: {track['duration_minutes']} mins\")\n"
   ]
  },
  {
   "cell_type": "markdown",
   "metadata": {},
   "source": [
    "### Convert to Pandas DataFrame"
   ]
  },
  {
   "cell_type": "code",
   "execution_count": 75,
   "metadata": {},
   "outputs": [
    {
     "name": "stdout",
     "output_type": "stream",
     "text": [
      "                                                                              name  popularity  duration_minutes\n",
      "0                                                                        All of Me          83              4.49\n",
      "1                                 What Christmas Means to Me (feat. Stevie Wonder)          68              2.67\n",
      "2                                                                    Bring Me Love          63              3.32\n",
      "3                                                               You Deserve It All          66              3.31\n",
      "4                                                                       Minefields          61              3.18\n",
      "5                                   Baby, It's Cold Outside (feat. Kelly Clarkson)          65              3.65\n",
      "6                                                             Beauty and the Beast          62              3.80\n",
      "7  The Christmas Song (Chestnuts Roasting On An Open Fire) (duet with John Legend)          54              3.50\n",
      "8                                                                   This Christmas          52              3.05\n",
      "9                                                       On Time (with John Legend)          61              2.82\n"
     ]
    }
   ],
   "source": [
    "import pandas as pd\n",
    "\n",
    "# Convert the tracks data into a Pandas DataFrame\n",
    "df_tracks = pd.DataFrame(tracks_data)\n",
    "\n",
    "pd.set_option('display.expand_frame_repr', False)\n",
    "\n",
    "# Display the DataFrame\n",
    "print(df_tracks)\n"
   ]
  },
  {
   "cell_type": "code",
   "execution_count": 76,
   "metadata": {},
   "outputs": [
    {
     "name": "stdout",
     "output_type": "stream",
     "text": [
      "                                                                              name  popularity  duration_minutes\n",
      "0                                                                        All of Me          83              4.49\n",
      "1                                 What Christmas Means to Me (feat. Stevie Wonder)          68              2.67\n",
      "3                                                               You Deserve It All          66              3.31\n",
      "5                                   Baby, It's Cold Outside (feat. Kelly Clarkson)          65              3.65\n",
      "2                                                                    Bring Me Love          63              3.32\n",
      "6                                                             Beauty and the Beast          62              3.80\n",
      "4                                                                       Minefields          61              3.18\n",
      "9                                                       On Time (with John Legend)          61              2.82\n",
      "7  The Christmas Song (Chestnuts Roasting On An Open Fire) (duet with John Legend)          54              3.50\n",
      "8                                                                   This Christmas          52              3.05\n"
     ]
    }
   ],
   "source": [
    "# Sort the DataFrame by the 'popularity' column in descending order\n",
    "df_tracks_sorted = df_tracks.sort_values(by=\"popularity\", ascending=False)\n",
    "\n",
    "# Display the sorted DataFrame\n",
    "print(df_tracks_sorted)\n"
   ]
  },
  {
   "cell_type": "markdown",
   "metadata": {},
   "source": [
    "### Analysis of DataFrame"
   ]
  },
  {
   "cell_type": "code",
   "execution_count": 77,
   "metadata": {},
   "outputs": [
    {
     "name": "stdout",
     "output_type": "stream",
     "text": [
      "Linear Regression Equation: y = 9.16x + 32.55\n",
      "R² Value: 0.32\n"
     ]
    },
    {
     "data": {
      "image/png": "[encoded data removed]",
      "text/plain": [
       "<Figure size 800x600 with 1 Axes>"
      ]
     },
     "metadata": {},
     "output_type": "display_data"
    }
   ],
   "source": [
    "import numpy as np\n",
    "import pandas as pd\n",
    "import matplotlib.pyplot as plt\n",
    "from sklearn.linear_model import LinearRegression\n",
    "\n",
    "# Prepare data\n",
    "X = df_tracks[['duration_minutes']].values  # Independent variable (2D array for scikit-learn)\n",
    "y = df_tracks['popularity'].values  # Dependent variable\n",
    "\n",
    "# Fit the linear regression model\n",
    "model = LinearRegression()\n",
    "model.fit(X, y)\n",
    "\n",
    "# Get the regression line\n",
    "y_pred = model.predict(X)  # Predictions for the regression line\n",
    "\n",
    "# Coefficients and R² score\n",
    "slope = model.coef_[0]  # Slope of the line\n",
    "intercept = model.intercept_  # Intercept of the line\n",
    "r_squared = model.score(X, y)  # R² value\n",
    "\n",
    "print(f\"Linear Regression Equation: y = {slope:.2f}x + {intercept:.2f}\")\n",
    "print(f\"R² Value: {r_squared:.2f}\")\n",
    "\n",
    "# Plot the scatter plot and regression line\n",
    "plt.figure(figsize=(8, 6))\n",
    "plt.scatter(X, y, color='blue', alpha=0.7, label='Data Points')\n",
    "plt.plot(X, y_pred, color='red', label=f'Regression Line (R²={r_squared:.2f})')\n",
    "plt.title('Linear Regression: Duration vs Popularity')\n",
    "plt.xlabel('Duration (minutes)')\n",
    "plt.ylabel('Popularity')\n",
    "plt.legend()\n",
    "plt.grid(True)\n",
    "plt.show()\n"
   ]
  },
  {
   "cell_type": "code",
   "execution_count": 78,
   "metadata": {},
   "outputs": [
    {
     "name": "stdout",
     "output_type": "stream",
     "text": [
      "Correlation: 0.5663299483394114\n"
     ]
    }
   ],
   "source": [
    "correlation = df_tracks['duration_minutes'].corr(df_tracks['popularity'])\n",
    "print(f\"Correlation: {correlation}\")\n"
   ]
  },
  {
   "cell_type": "markdown",
   "metadata": {},
   "source": [
    "### Based on the linear regression R2 and the correlation figure shown above, we can infer that there is a moderate positive relationship between song duration and popularity.\n"
   ]
  }
 ],
 "metadata": {
  "kernelspec": {
   "display_name": ".venv",
   "language": "python",
   "name": "python3"
  },
  "language_info": {
   "codemirror_mode": {
    "name": "ipython",
    "version": 3
   },
   "file_extension": ".py",
   "mimetype": "text/x-python",
   "name": "python",
   "nbconvert_exporter": "python",
   "pygments_lexer": "ipython3",
   "version": "3.11.4"
  }
 },
 "nbformat": 4,
 "nbformat_minor": 2
}
